{
 "cells": [
  {
   "cell_type": "code",
   "execution_count": 1,
   "id": "5ad1019e-0735-415d-b3c3-7834c50adbf7",
   "metadata": {},
   "outputs": [
    {
     "name": "stdout",
     "output_type": "stream",
     "text": [
      "Helo World in Python\n"
     ]
    }
   ],
   "source": [
    "print(\"Helo World in Python\")"
   ]
  },
  {
   "cell_type": "code",
   "execution_count": null,
   "id": "6924b781-736b-4965-a9ba-b3aa69813c4a",
   "metadata": {},
   "outputs": [],
   "source": []
  }
 ],
 "metadata": {
  "kernelspec": {
   "display_name": "Python 3 (ipykernel)",
   "language": "python",
   "name": "python3"
  },
  "language_info": {
   "codemirror_mode": {
    "name": "ipython",
    "version": 3
   },
   "file_extension": ".py",
   "mimetype": "text/x-python",
   "name": "python",
   "nbconvert_exporter": "python",
   "pygments_lexer": "ipython3",
   "version": "3.9.13"
  }
 },
 "nbformat": 4,
 "nbformat_minor": 5
}
